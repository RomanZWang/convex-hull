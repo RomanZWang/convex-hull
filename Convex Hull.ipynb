{
 "cells": [
  {
   "cell_type": "code",
   "execution_count": 2,
   "metadata": {},
   "outputs": [],
   "source": [
    "import numpy as np\n",
    "import matplotlib.pyplot as plt\n",
    "import pandas as pd"
   ]
  },
  {
   "cell_type": "code",
   "execution_count": 3,
   "metadata": {},
   "outputs": [],
   "source": [
    "def generate_points(n=10):\n",
    "    return pd.DataFrame(np.random.randint(-100, 100, size=(10, 2)), columns=['x', 'y'])\n",
    "\n",
    "def sort_by_x(df): # TODO: Does sorting by y for both bottom and top hulls?\n",
    "    return df.sort_values(['x', 'y'], ascending=(True, True)).reset_index(drop=True)\n",
    "\n",
    "def sort_by_y(df): # TODO: Does sorting by y for both bottom and top hulls?\n",
    "    return df.sort_values(['y', 'x'], ascending=(True, True)).reset_index(drop=True)\n",
    "\n",
    "def get_upper_and_lower_sets(numpy_array):\n",
    "    lowest_x_element = numpy_array[0]\n",
    "    return np.sort(numpy_array, order=['y'])\n",
    "\n",
    "def is_not_right_turn(data):\n",
    "    if len(data) != 3:\n",
    "        raise ValueError(\"Not enough values to determine turn direction\")\n",
    "\n",
    "    px, py = data[0]\n",
    "    qx, qy = data[1]\n",
    "    rx, ry = data[2]\n",
    "\n",
    "    checker_array = np.array(\n",
    "        [[1, px, py],\n",
    "        [1, qx, qy],\n",
    "        [1, rx, ry]]\n",
    "    )\n",
    "\n",
    "    return np.linalg.det(checker_array) <= 0\n",
    "\n",
    "def plot_list(data, circle_back=False, scatter_overlay=None):\n",
    "    if circle_back:\n",
    "        for index, point in enumerate(data):\n",
    "            if index == len(data) - 1:\n",
    "                next_point = data[0]\n",
    "            else:\n",
    "                next_point = data[index + 1]\n",
    "            plt.plot([point[0], next_point[0]], [point[1], next_point[1]], 'ro-')\n",
    "    else:\n",
    "        for index, point in enumerate(data[:-1]):\n",
    "            next_point = data[index + 1]\n",
    "            plt.plot([point[0], next_point[0]], [point[1], next_point[1]], 'ro-')\n",
    "\n",
    "    if scatter_overlay is not None:\n",
    "        plt.scatter(scatter_overlay['x'], scatter_overlay['y'])\n",
    "    plt.show()"
   ]
  },
  {
   "cell_type": "markdown",
   "metadata": {},
   "source": [
    "# Variable initialization"
   ]
  },
  {
   "cell_type": "code",
   "execution_count": 4,
   "metadata": {},
   "outputs": [
    {
     "name": "stdout",
     "output_type": "stream",
     "text": [
      "Sample Points Generated\n",
      "    x   y\n",
      "0  79 -81\n",
      "1  82   9\n",
      "2  98 -87\n",
      "3  26 -21\n",
      "4  72 -23\n",
      "5   5  38\n",
      "6 -70  38\n",
      "7 -58 -72\n",
      "8  40 -56\n",
      "9 -75 -28\n",
      "Sample Points X Sorted\n",
      "    x   y\n",
      "0 -75 -28\n",
      "1 -70  38\n",
      "2 -58 -72\n",
      "3   5  38\n",
      "4  26 -21\n",
      "5  40 -56\n",
      "6  72 -23\n",
      "7  79 -81\n",
      "8  82   9\n",
      "9  98 -87\n",
      "Upper List Initialized\n",
      "[(-75, -28), (-70, 38)]\n",
      "Lower List Initialized\n",
      "[(98, -87), (82, 9)]\n"
     ]
    }
   ],
   "source": [
    "n = 10\n",
    "sample_points = generate_points(n)\n",
    "sample_points_sorted_x = sort_by_x(sample_points)\n",
    "\n",
    "upper_list = [tuple(point) for point in sample_points_sorted_x.head(2).to_numpy()]\n",
    "lower_list = [tuple(point) for point in sample_points_sorted_x.tail(2).to_numpy()]\n",
    "lower_list.reverse()\n",
    "\n",
    "print(\"Sample Points Generated\")\n",
    "print(sample_points)\n",
    "print(\"Sample Points X Sorted\")\n",
    "print(sample_points_sorted_x)\n",
    "print(\"Upper List Initialized\")\n",
    "print(upper_list)\n",
    "print(\"Lower List Initialized\")\n",
    "print(lower_list)"
   ]
  },
  {
   "cell_type": "code",
   "execution_count": 5,
   "metadata": {},
   "outputs": [],
   "source": [
    "upper_list = [tuple(point) for point in sample_points_sorted_x.head(2).to_numpy()]\n",
    "lower_list = [tuple(point) for point in sample_points_sorted_x.tail(2).to_numpy()]\n",
    "lower_list.reverse()"
   ]
  },
  {
   "cell_type": "markdown",
   "metadata": {},
   "source": [
    "# Convex hull algorithm implementation"
   ]
  },
  {
   "cell_type": "code",
   "execution_count": 6,
   "metadata": {},
   "outputs": [
    {
     "data": {
      "image/png": "[encoded data removed]",
      "text/plain": [
       "<Figure size 432x288 with 1 Axes>"
      ]
     },
     "metadata": {
      "needs_background": "light"
     },
     "output_type": "display_data"
    },
    {
     "data": {
      "image/png": "[encoded data removed]",
      "text/plain": [
       "<Figure size 432x288 with 1 Axes>"
      ]
     },
     "metadata": {
      "needs_background": "light"
     },
     "output_type": "display_data"
    },
    {
     "data": {
      "image/png": "[encoded data removed]",
      "text/plain": [
       "<Figure size 432x288 with 1 Axes>"
      ]
     },
     "metadata": {
      "needs_background": "light"
     },
     "output_type": "display_data"
    }
   ],
   "source": [
    "plt.scatter(sample_points['x'], sample_points['y'])\n",
    "\n",
    "# Create Upper Hull\n",
    "for index in range(2, n):\n",
    "    # print(upper_list)\n",
    "    point_to_add = tuple(sample_points_sorted_x.iloc[index].to_numpy())\n",
    "    upper_list.append(point_to_add)\n",
    "    # print(point_to_add)\n",
    "    while len(upper_list) > 2 and not is_not_right_turn(upper_list[-3:]):\n",
    "        # print('opposite turn condition reached')\n",
    "        del upper_list[-2]\n",
    "\n",
    "plot_list(upper_list, circle_back=False)\n",
    "\n",
    "# Create Lower Hull\n",
    "for index in range(n-3, -1, -1):\n",
    "    # print(upper_list)\n",
    "    point_to_add = tuple(sample_points_sorted_x.iloc[index].to_numpy())\n",
    "    lower_list.append(point_to_add)\n",
    "    # print(point_to_add)\n",
    "    while len(lower_list) > 2 and not is_not_right_turn(lower_list[-3:]):\n",
    "        # print('opposite turn condition reached')\n",
    "        del lower_list[-2]\n",
    "\n",
    "plot_list(lower_list, circle_back=False)\n",
    "\n",
    "del lower_list[-1]\n",
    "del lower_list[0]\n",
    "\n",
    "solution = upper_list + lower_list\n",
    "plot_list(solution, circle_back=True, scatter_overlay=sample_points)"
   ]
  },
  {
   "cell_type": "code",
   "execution_count": null,
   "metadata": {},
   "outputs": [],
   "source": []
  }
 ],
 "metadata": {
  "kernelspec": {
   "display_name": "cgeo2",
   "language": "python",
   "name": "cgeo2"
  },
  "language_info": {
   "codemirror_mode": {
    "name": "ipython",
    "version": 3
   },
   "file_extension": ".py",
   "mimetype": "text/x-python",
   "name": "python",
   "nbconvert_exporter": "python",
   "pygments_lexer": "ipython3",
   "version": "3.7.9"
  }
 },
 "nbformat": 4,
 "nbformat_minor": 4
}
